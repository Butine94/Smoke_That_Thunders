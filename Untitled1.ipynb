{
 "cells": [
  {
   "cell_type": "code",
   "execution_count": 3,
   "id": "58b3d355-4069-4e22-9a0f-04dc2f035e05",
   "metadata": {},
   "outputs": [
    {
     "name": "stdout",
     "output_type": "stream",
     "text": [
      "Starting diffusion model test...\n",
      "❌ Error: No module named 'diffusers'\n"
     ]
    },
    {
     "name": "stderr",
     "output_type": "stream",
     "text": [
      "Traceback (most recent call last):\n",
      "  File \"/var/folders/vz/9dbkbpkn6sz_lnd8v8b9t08h0000gn/T/ipykernel_38401/1049689842.py\", line 4, in <module>\n",
      "    from models.diffusion_model import DiffusionGenerator\n",
      "  File \"/Users/seanmcgurk/Documents/Solaris/models/diffusion_model.py\", line 2, in <module>\n",
      "    from diffusers import StableDiffusionPipeline\n",
      "ModuleNotFoundError: No module named 'diffusers'\n"
     ]
    }
   ],
   "source": [
    "print(\"Starting diffusion model test...\")\n",
    "\n",
    "try:\n",
    "    from models.diffusion_model import DiffusionGenerator\n",
    "    print(\"✓ Import successful\")\n",
    "    \n",
    "    generator = DiffusionGenerator()\n",
    "    print(\"✓ Generator created\")\n",
    "    \n",
    "    # Test one image\n",
    "    test_prompts = [\"a red apple\"]\n",
    "    image_paths = generator.generate_images(test_prompts, output_dir=\"test_output\")\n",
    "    print(f\"✓ Generated images: {image_paths}\")\n",
    "    \n",
    "    # Check the actual image file\n",
    "    from PIL import Image\n",
    "    import numpy as np\n",
    "    \n",
    "    if image_paths:\n",
    "        img = Image.open(image_paths[0])\n",
    "        img_array = np.array(img)\n",
    "        print(f\"Image stats - Shape: {img_array.shape}, Min: {img_array.min()}, Max: {img_array.max()}\")\n",
    "        \n",
    "        # Show the image\n",
    "        img.show()\n",
    "        \n",
    "except Exception as e:\n",
    "    print(f\"❌ Error: {e}\")\n",
    "    import traceback\n",
    "    traceback.print_exc()"
   ]
  },
  {
   "cell_type": "code",
   "execution_count": 4,
   "id": "2fa3428a-aebc-4c54-9f3f-4829a36ef9ee",
   "metadata": {},
   "outputs": [
    {
     "ename": "ModuleNotFoundError",
     "evalue": "No module named 'diffusers'",
     "output_type": "error",
     "traceback": [
      "\u001b[0;31m---------------------------------------------------------------------------\u001b[0m",
      "\u001b[0;31mModuleNotFoundError\u001b[0m                       Traceback (most recent call last)",
      "Cell \u001b[0;32mIn[4], line 2\u001b[0m\n\u001b[1;32m      1\u001b[0m \u001b[38;5;66;03m# Test the diffusion model directly\u001b[39;00m\n\u001b[0;32m----> 2\u001b[0m \u001b[38;5;28;01mfrom\u001b[39;00m\u001b[38;5;250m \u001b[39m\u001b[38;5;21;01mmodels\u001b[39;00m\u001b[38;5;21;01m.\u001b[39;00m\u001b[38;5;21;01mdiffusion_model\u001b[39;00m\u001b[38;5;250m \u001b[39m\u001b[38;5;28;01mimport\u001b[39;00m DiffusionGenerator\n\u001b[1;32m      4\u001b[0m \u001b[38;5;66;03m# Create generator\u001b[39;00m\n\u001b[1;32m      5\u001b[0m generator \u001b[38;5;241m=\u001b[39m DiffusionGenerator()\n",
      "File \u001b[0;32m~/Documents/Solaris/models/diffusion_model.py:2\u001b[0m\n\u001b[1;32m      1\u001b[0m \u001b[38;5;28;01mimport\u001b[39;00m\u001b[38;5;250m \u001b[39m\u001b[38;5;21;01mtorch\u001b[39;00m\n\u001b[0;32m----> 2\u001b[0m \u001b[38;5;28;01mfrom\u001b[39;00m\u001b[38;5;250m \u001b[39m\u001b[38;5;21;01mdiffusers\u001b[39;00m\u001b[38;5;250m \u001b[39m\u001b[38;5;28;01mimport\u001b[39;00m StableDiffusionPipeline\n\u001b[1;32m      3\u001b[0m \u001b[38;5;28;01mimport\u001b[39;00m\u001b[38;5;250m \u001b[39m\u001b[38;5;21;01mos\u001b[39;00m\n\u001b[1;32m      5\u001b[0m \u001b[38;5;28;01mclass\u001b[39;00m\u001b[38;5;250m \u001b[39m\u001b[38;5;21;01mDiffusionGenerator\u001b[39;00m:\n",
      "\u001b[0;31mModuleNotFoundError\u001b[0m: No module named 'diffusers'"
     ]
    }
   ],
   "source": [
    "# Test the diffusion model directly\n",
    "from models.diffusion_model import DiffusionGenerator\n",
    "\n",
    "# Create generator\n",
    "generator = DiffusionGenerator()\n",
    "\n",
    "# Test with just one simple prompt\n",
    "test_prompt = \"a red apple\"\n",
    "print(\"Testing single image generation...\")\n",
    "\n",
    "# Generate one image with debug info\n",
    "import torch\n",
    "gen_seed = torch.manual_seed(42)\n",
    "result = generator.pipe(test_prompt, height=512, width=512, generator=gen_seed)\n",
    "image = result.images[0]\n",
    "\n",
    "# Debug the image\n",
    "import numpy as np\n",
    "img_array = np.array(image)\n",
    "print(f\"Image shape: {img_array.shape}\")\n",
    "print(f\"Min: {img_array.min()}, Max: {img_array.max()}\")\n",
    "print(f\"Mean: {img_array.mean()}\")\n",
    "\n",
    "# Save and check\n",
    "image.save(\"test_output.png\")\n",
    "print(\"Test image saved as test_output.png\")\n",
    "\n",
    "# Display if in notebook\n",
    "image.show()  # or display(image) in Jupyter"
   ]
  },
  {
   "cell_type": "code",
   "execution_count": null,
   "id": "73d5de0f-0e0d-49cb-b43b-4621b352c440",
   "metadata": {},
   "outputs": [],
   "source": []
  }
 ],
 "metadata": {
  "kernelspec": {
   "display_name": "Python (kaggle-env)",
   "language": "python",
   "name": "kaggle-env"
  },
  "language_info": {
   "codemirror_mode": {
    "name": "ipython",
    "version": 3
   },
   "file_extension": ".py",
   "mimetype": "text/x-python",
   "name": "python",
   "nbconvert_exporter": "python",
   "pygments_lexer": "ipython3",
   "version": "3.10.18"
  }
 },
 "nbformat": 4,
 "nbformat_minor": 5
}
