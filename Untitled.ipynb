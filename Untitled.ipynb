{
 "cells": [
  {
   "cell_type": "code",
   "execution_count": 2,
   "id": "17ecbf05-3285-4f9a-9b46-3e8b8fe0a8a8",
   "metadata": {},
   "outputs": [
    {
     "data": {
      "text/html": [
       "<video controls  >\n",
       " <source src=\"data:video/mp4;base64,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\" type=\"video/mp4\">\n",
       " Your browser does not support the video tag.\n",
       " </video>"
      ],
      "text/plain": [
       "<IPython.core.display.Video object>"
      ]
     },
     "execution_count": 2,
     "metadata": {},
     "output_type": "execute_result"
    }
   ],
   "source": [
    "from IPython.display import Video\n",
    "\n",
    "# Embed the video directly in the notebook\n",
    "Video(\"outputs/film_ai_output.mp4\", embed=True)\n"
   ]
  },
  {
   "cell_type": "code",
   "execution_count": 8,
   "id": "39dc4619-c41c-4570-88ad-acb66a1d10e3",
   "metadata": {},
   "outputs": [
    {
     "ename": "NameError",
     "evalue": "name 'read_script' is not defined",
     "output_type": "error",
     "traceback": [
      "\u001b[31m---------------------------------------------------------------------------\u001b[39m",
      "\u001b[31mNameError\u001b[39m                                 Traceback (most recent call last)",
      "\u001b[36mCell\u001b[39m\u001b[36m \u001b[39m\u001b[32mIn[8]\u001b[39m\u001b[32m, line 1\u001b[39m\n\u001b[32m----> \u001b[39m\u001b[32m1\u001b[39m lines = \u001b[43mread_script\u001b[49m(SCRIPT_PATH)\n\u001b[32m      2\u001b[39m \u001b[38;5;28mprint\u001b[39m(\u001b[33m\"\u001b[39m\u001b[33mScript lines:\u001b[39m\u001b[33m\"\u001b[39m, lines)\n",
      "\u001b[31mNameError\u001b[39m: name 'read_script' is not defined"
     ]
    }
   ],
   "source": [
    "lines = read_script(SCRIPT_PATH)\n",
    "print(\"Script lines:\", lines)\n"
   ]
  },
  {
   "cell_type": "code",
   "execution_count": null,
   "id": "8447b2e5-22c5-49fe-9b7c-83fb7673ef2b",
   "metadata": {},
   "outputs": [],
   "source": []
  }
 ],
 "metadata": {
  "kernelspec": {
   "display_name": "Python [conda env:film-ai]",
   "language": "python",
   "name": "conda-env-film-ai-py"
  },
  "language_info": {
   "codemirror_mode": {
    "name": "ipython",
    "version": 3
   },
   "file_extension": ".py",
   "mimetype": "text/x-python",
   "name": "python",
   "nbconvert_exporter": "python",
   "pygments_lexer": "ipython3",
   "version": "3.11.13"
  }
 },
 "nbformat": 4,
 "nbformat_minor": 5
}
