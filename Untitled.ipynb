{
 "cells": [
  {
   "cell_type": "code",
   "execution_count": 1,
   "id": "17ecbf05-3285-4f9a-9b46-3e8b8fe0a8a8",
   "metadata": {},
   "outputs": [
    {
     "data": {
      "text/html": [
       "<video controls  >\n",
       " <source src=\"data:video/mp4;base64,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\" type=\"video/mp4\">\n",
       " Your browser does not support the video tag.\n",
       " </video>"
      ],
      "text/plain": [
       "<IPython.core.display.Video object>"
      ]
     },
     "execution_count": 1,
     "metadata": {},
     "output_type": "execute_result"
    }
   ],
   "source": [
    "from IPython.display import Video\n",
    "\n",
    "# Embed the video directly in the notebook\n",
    "Video(\"outputs/film_ai_output.mp4\", embed=True)\n"
   ]
  },
  {
   "cell_type": "code",
   "execution_count": null,
   "id": "39dc4619-c41c-4570-88ad-acb66a1d10e3",
   "metadata": {},
   "outputs": [],
   "source": [
    "# Add these imports at the top of your cell\n",
    "import sys\n",
    "import os\n",
    "sys.path.append('/path/to/your/Solaris')  # Replace with actual path\n",
    "from utils.text import read_script\n",
    "\n",
    "# Define the path\n",
    "SCRIPT_PATH = \"data/sample_scripts.txt\" \n",
    "lines = read_script(SCRIPT_PATH)\n",
    "print(\"Script lines:\", lines)"
   ]
  },
  {
   "cell_type": "code",
   "execution_count": null,
   "id": "8447b2e5-22c5-49fe-9b7c-83fb7673ef2b",
   "metadata": {},
   "outputs": [],
   "source": [
    "# Test the diffusion model directly\n",
    "from models.diffusion_model import DiffusionGenerator\n",
    "\n",
    "# Create generator\n",
    "generator = DiffusionGenerator()\n",
    "\n",
    "# Test with just one simple prompt\n",
    "test_prompt = \"a red apple\"\n",
    "print(\"Testing single image generation...\")\n",
    "\n",
    "# Generate one image with debug info\n",
    "import torch\n",
    "gen_seed = torch.manual_seed(42)\n",
    "result = generator.pipe(test_prompt, height=512, width=512, generator=gen_seed)\n",
    "image = result.images[0]\n",
    "\n",
    "# Debug the image\n",
    "import numpy as np\n",
    "img_array = np.array(image)\n",
    "print(f\"Image shape: {img_array.shape}\")\n",
    "print(f\"Min: {img_array.min()}, Max: {img_array.max()}\")\n",
    "print(f\"Mean: {img_array.mean()}\")\n",
    "\n",
    "# Save and check\n",
    "image.save(\"test_output.png\")\n",
    "print(\"Test image saved as test_output.png\")\n",
    "\n",
    "# Display if in notebook\n",
    "image.show()  # or display(image) in Jupyter"
   ]
  },
  {
   "cell_type": "code",
   "execution_count": null,
   "id": "c3346f46-85f2-40f4-acb0-5e1c0f1f4ff7",
   "metadata": {},
   "outputs": [],
   "source": []
  }
 ],
 "metadata": {
  "kernelspec": {
   "display_name": "Python [conda env:film-ai]",
   "language": "python",
   "name": "conda-env-film-ai-py"
  },
  "language_info": {
   "codemirror_mode": {
    "name": "ipython",
    "version": 3
   },
   "file_extension": ".py",
   "mimetype": "text/x-python",
   "name": "python",
   "nbconvert_exporter": "python",
   "pygments_lexer": "ipython3",
   "version": "3.11.13"
  }
 },
 "nbformat": 4,
 "nbformat_minor": 5
}
